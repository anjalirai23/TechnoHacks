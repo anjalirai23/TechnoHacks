{
  "nbformat": 4,
  "nbformat_minor": 0,
  "metadata": {
    "colab": {
      "provenance": []
    },
    "kernelspec": {
      "name": "python3",
      "display_name": "Python 3"
    },
    "language_info": {
      "name": "python"
    }
  },
  "cells": [
    {
      "cell_type": "code",
      "execution_count": null,
      "metadata": {
        "colab": {
          "base_uri": "https://localhost:8080/"
        },
        "id": "__Rw5FnwA8lC",
        "outputId": "8beb3bc0-ef5c-4ac6-88db-76da0659dd2f"
      },
      "outputs": [
        {
          "output_type": "stream",
          "name": "stdout",
          "text": [
            "Please select the operation.\n",
            "a. Add\n",
            "b. Subtract\n",
            "c. Multiply\n",
            "d. Divide\n",
            "Please enter choice (a/ b/ c/ d): a\n",
            "Please enter the first number: 23\n",
            "Please enter the second number: 14\n",
            "23  +  14  =  37\n"
          ]
        }
      ],
      "source": [
        "def add(P, Q):\n",
        "   # This function is used for adding two numbers\n",
        "   return P + Q\n",
        "def subtract(P, Q):\n",
        "   # This function is used for subtracting two numbers\n",
        "   return P - Q\n",
        "def multiply(P, Q):\n",
        "   # This function is used for multiplying two numbers\n",
        "   return P * Q\n",
        "def divide(P, Q):\n",
        "   # This function is used for dividing two numbers\n",
        "   return P / Q\n",
        "# Now we will take inputs from the user\n",
        "print (\"Please select the operation.\")\n",
        "print (\"a. Add\")\n",
        "print (\"b. Subtract\")\n",
        "print (\"c. Multiply\")\n",
        "print (\"d. Divide\")\n",
        "\n",
        "choice = input(\"Please enter choice (a/ b/ c/ d): \")\n",
        "\n",
        "num_1 = int (input (\"Please enter the first number: \"))\n",
        "num_2 = int (input (\"Please enter the second number: \"))\n",
        "\n",
        "if choice == 'a':\n",
        "   print (num_1, \" + \", num_2, \" = \", add(num_1, num_2))\n",
        "\n",
        "elif choice == 'b':\n",
        "   print (num_1, \" - \", num_2, \" = \", subtract(num_1, num_2))\n",
        "\n",
        "elif choice == 'c':\n",
        "   print (num_1, \" * \", num_2, \" = \", multiply(num_1, num_2))\n",
        "elif choice == 'd':\n",
        "   print (num_1, \" / \", num_2, \" = \", divide(num_1, num_2))\n",
        "else:\n",
        "   print (\"This is an invalid input\")"
      ]
    }
  ]
}