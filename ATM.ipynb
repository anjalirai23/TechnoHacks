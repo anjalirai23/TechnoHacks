{
  "nbformat": 4,
  "nbformat_minor": 0,
  "metadata": {
    "colab": {
      "provenance": []
    },
    "kernelspec": {
      "name": "python3",
      "display_name": "Python 3"
    },
    "language_info": {
      "name": "python"
    }
  },
  "cells": [
    {
      "cell_type": "code",
      "execution_count": null,
      "metadata": {
        "colab": {
          "base_uri": "https://localhost:8080/"
        },
        "id": "nyCLcMtZA9iJ",
        "outputId": "9d6335fa-749e-49ab-febc-5f22b08621fc"
      },
      "outputs": [
        {
          "output_type": "stream",
          "name": "stdout",
          "text": [
            "1. Check Balance\n",
            "2. Deposit\n",
            "3. Withdraw\n",
            "4. Quit\n",
            "Select an option (1/2/3/4): 2\n",
            "Enter the amount to deposit: 1000\n",
            "Deposit successful.\n",
            "1. Check Balance\n",
            "2. Deposit\n",
            "3. Withdraw\n",
            "4. Quit\n",
            "Select an option (1/2/3/4): 3\n",
            "Enter the amount to withdraw: 300\n",
            "Withdrawal successful.\n",
            "1. Check Balance\n",
            "2. Deposit\n",
            "3. Withdraw\n",
            "4. Quit\n",
            "Select an option (1/2/3/4): 1\n",
            "Balance: 700.0\n",
            "1. Check Balance\n",
            "2. Deposit\n",
            "3. Withdraw\n",
            "4. Quit\n",
            "Select an option (1/2/3/4): 4\n",
            "Thank you for using the ATM!\n"
          ]
        }
      ],
      "source": [
        "class ATM:\n",
        "    def __init__(self, balance=0):\n",
        "        self.balance = balance\n",
        "\n",
        "    def check_balance(self):\n",
        "        return self.balance\n",
        "\n",
        "    def deposit(self, amount):\n",
        "        if amount > 0:\n",
        "            self.balance += amount\n",
        "            return True\n",
        "        else:\n",
        "            return False\n",
        "\n",
        "    def withdraw(self, amount):\n",
        "        if 0 < amount <= self.balance:\n",
        "            self.balance -= amount\n",
        "            return True\n",
        "        else:\n",
        "            return False\n",
        "\n",
        "def main():\n",
        "    atm = ATM()\n",
        "\n",
        "    while True:\n",
        "        print(\"1. Check Balance\")\n",
        "        print(\"2. Deposit\")\n",
        "        print(\"3. Withdraw\")\n",
        "        print(\"4. Quit\")\n",
        "\n",
        "        choice = input(\"Select an option (1/2/3/4): \")\n",
        "\n",
        "        if choice == '1':\n",
        "            print(\"Balance:\", atm.check_balance())\n",
        "        elif choice == '2':\n",
        "            amount = float(input(\"Enter the amount to deposit: \"))\n",
        "            if atm.deposit(amount):\n",
        "                print(\"Deposit successful.\")\n",
        "            else:\n",
        "                print(\"Invalid amount.\")\n",
        "        elif choice == '3':\n",
        "            amount = float(input(\"Enter the amount to withdraw: \"))\n",
        "            if atm.withdraw(amount):\n",
        "                print(\"Withdrawal successful.\")\n",
        "            else:\n",
        "                print(\"Insufficient funds or invalid amount.\")\n",
        "        elif choice == '4':\n",
        "            print(\"Thank you for using the ATM!\")\n",
        "            break\n",
        "        else:\n",
        "            print(\"Invalid choice. Please select a valid option.\")\n",
        "\n",
        "if __name__ == \"__main__\":\n",
        "    main()\n"
      ]
    }
  ]
}